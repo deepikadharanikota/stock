{
 "cells": [
  {
   "cell_type": "code",
   "execution_count": 21,
   "id": "42aea004-8214-42e2-acb1-4c1d82a41bec",
   "metadata": {},
   "outputs": [],
   "source": [
    "import numpy as np\n",
    "import pandas as pd\n",
    "import matplotlib.pyplot as plt\n",
    "import seaborn as sns\n",
    "from sklearn.model_selection import train_test_split\n",
    "from sklearn.preprocessing import StandardScaler\n",
    "from sklearn.linear_model import LinearRegression\n",
    "from sklearn.metrics import mean_squared_error, r2_score\n"
   ]
  },
  {
   "cell_type": "code",
   "execution_count": 23,
   "id": "69ad9f64-8714-45d6-a01f-36eae780a428",
   "metadata": {},
   "outputs": [
    {
     "data": {
      "text/html": [
       "<div>\n",
       "<style scoped>\n",
       "    .dataframe tbody tr th:only-of-type {\n",
       "        vertical-align: middle;\n",
       "    }\n",
       "\n",
       "    .dataframe tbody tr th {\n",
       "        vertical-align: top;\n",
       "    }\n",
       "\n",
       "    .dataframe thead th {\n",
       "        text-align: right;\n",
       "    }\n",
       "</style>\n",
       "<table border=\"1\" class=\"dataframe\">\n",
       "  <thead>\n",
       "    <tr style=\"text-align: right;\">\n",
       "      <th></th>\n",
       "      <th>Date</th>\n",
       "      <th>Open</th>\n",
       "      <th>High</th>\n",
       "      <th>Low</th>\n",
       "      <th>Close</th>\n",
       "      <th>Adj Close</th>\n",
       "      <th>Volume</th>\n",
       "    </tr>\n",
       "  </thead>\n",
       "  <tbody>\n",
       "    <tr>\n",
       "      <th>0</th>\n",
       "      <td>01-01-1996</td>\n",
       "      <td>18.691147</td>\n",
       "      <td>18.978922</td>\n",
       "      <td>18.540184</td>\n",
       "      <td>18.823240</td>\n",
       "      <td>12.409931</td>\n",
       "      <td>43733533.0</td>\n",
       "    </tr>\n",
       "    <tr>\n",
       "      <th>1</th>\n",
       "      <td>02-01-1996</td>\n",
       "      <td>18.894005</td>\n",
       "      <td>18.964767</td>\n",
       "      <td>17.738192</td>\n",
       "      <td>18.224106</td>\n",
       "      <td>12.014931</td>\n",
       "      <td>56167280.0</td>\n",
       "    </tr>\n",
       "    <tr>\n",
       "      <th>2</th>\n",
       "      <td>03-01-1996</td>\n",
       "      <td>18.327892</td>\n",
       "      <td>18.568489</td>\n",
       "      <td>17.643839</td>\n",
       "      <td>17.738192</td>\n",
       "      <td>11.694577</td>\n",
       "      <td>68296318.0</td>\n",
       "    </tr>\n",
       "    <tr>\n",
       "      <th>3</th>\n",
       "      <td>04-01-1996</td>\n",
       "      <td>17.502312</td>\n",
       "      <td>17.832542</td>\n",
       "      <td>17.223972</td>\n",
       "      <td>17.676863</td>\n",
       "      <td>11.654142</td>\n",
       "      <td>86073880.0</td>\n",
       "    </tr>\n",
       "    <tr>\n",
       "      <th>4</th>\n",
       "      <td>05-01-1996</td>\n",
       "      <td>17.738192</td>\n",
       "      <td>17.785366</td>\n",
       "      <td>17.459852</td>\n",
       "      <td>17.577793</td>\n",
       "      <td>11.588827</td>\n",
       "      <td>76613039.0</td>\n",
       "    </tr>\n",
       "  </tbody>\n",
       "</table>\n",
       "</div>"
      ],
      "text/plain": [
       "         Date       Open       High        Low      Close  Adj Close  \\\n",
       "0  01-01-1996  18.691147  18.978922  18.540184  18.823240  12.409931   \n",
       "1  02-01-1996  18.894005  18.964767  17.738192  18.224106  12.014931   \n",
       "2  03-01-1996  18.327892  18.568489  17.643839  17.738192  11.694577   \n",
       "3  04-01-1996  17.502312  17.832542  17.223972  17.676863  11.654142   \n",
       "4  05-01-1996  17.738192  17.785366  17.459852  17.577793  11.588827   \n",
       "\n",
       "       Volume  \n",
       "0  43733533.0  \n",
       "1  56167280.0  \n",
       "2  68296318.0  \n",
       "3  86073880.0  \n",
       "4  76613039.0  "
      ]
     },
     "execution_count": 23,
     "metadata": {},
     "output_type": "execute_result"
    }
   ],
   "source": [
    "a=pd.read_csv(r\"C:\\Users\\deepi\\Downloads\\SBIN.csv\")\n",
    "a.head()"
   ]
  },
  {
   "cell_type": "code",
   "execution_count": 25,
   "id": "e22d5da1-2456-4db2-8abc-a2616c1d0441",
   "metadata": {},
   "outputs": [
    {
     "name": "stdout",
     "output_type": "stream",
     "text": [
      "<class 'pandas.core.frame.DataFrame'>\n",
      "RangeIndex: 7074 entries, 0 to 7073\n",
      "Data columns (total 7 columns):\n",
      " #   Column     Non-Null Count  Dtype  \n",
      "---  ------     --------------  -----  \n",
      " 0   Date       7074 non-null   object \n",
      " 1   Open       7065 non-null   float64\n",
      " 2   High       7065 non-null   float64\n",
      " 3   Low        7065 non-null   float64\n",
      " 4   Close      7065 non-null   float64\n",
      " 5   Adj Close  7065 non-null   float64\n",
      " 6   Volume     7065 non-null   float64\n",
      "dtypes: float64(6), object(1)\n",
      "memory usage: 387.0+ KB\n"
     ]
    }
   ],
   "source": [
    "a.info()"
   ]
  },
  {
   "cell_type": "code",
   "execution_count": 27,
   "id": "82af4fd7-2cd7-4ab1-97fa-159291ded8e5",
   "metadata": {},
   "outputs": [
    {
     "data": {
      "text/html": [
       "<div>\n",
       "<style scoped>\n",
       "    .dataframe tbody tr th:only-of-type {\n",
       "        vertical-align: middle;\n",
       "    }\n",
       "\n",
       "    .dataframe tbody tr th {\n",
       "        vertical-align: top;\n",
       "    }\n",
       "\n",
       "    .dataframe thead th {\n",
       "        text-align: right;\n",
       "    }\n",
       "</style>\n",
       "<table border=\"1\" class=\"dataframe\">\n",
       "  <thead>\n",
       "    <tr style=\"text-align: right;\">\n",
       "      <th></th>\n",
       "      <th>Date</th>\n",
       "      <th>Open</th>\n",
       "      <th>High</th>\n",
       "      <th>Low</th>\n",
       "      <th>Close</th>\n",
       "      <th>Adj Close</th>\n",
       "      <th>Volume</th>\n",
       "    </tr>\n",
       "  </thead>\n",
       "  <tbody>\n",
       "    <tr>\n",
       "      <th>7069</th>\n",
       "      <td>05-02-2024</td>\n",
       "      <td>647.099976</td>\n",
       "      <td>654.799988</td>\n",
       "      <td>638.750000</td>\n",
       "      <td>642.950012</td>\n",
       "      <td>642.950012</td>\n",
       "      <td>28339525.0</td>\n",
       "    </tr>\n",
       "    <tr>\n",
       "      <th>7070</th>\n",
       "      <td>06-02-2024</td>\n",
       "      <td>644.450012</td>\n",
       "      <td>655.000000</td>\n",
       "      <td>637.700012</td>\n",
       "      <td>650.250000</td>\n",
       "      <td>650.250000</td>\n",
       "      <td>14079390.0</td>\n",
       "    </tr>\n",
       "    <tr>\n",
       "      <th>7071</th>\n",
       "      <td>07-02-2024</td>\n",
       "      <td>655.049988</td>\n",
       "      <td>677.950012</td>\n",
       "      <td>655.000000</td>\n",
       "      <td>675.250000</td>\n",
       "      <td>675.250000</td>\n",
       "      <td>41696232.0</td>\n",
       "    </tr>\n",
       "    <tr>\n",
       "      <th>7072</th>\n",
       "      <td>08-02-2024</td>\n",
       "      <td>680.400024</td>\n",
       "      <td>718.900024</td>\n",
       "      <td>678.500000</td>\n",
       "      <td>699.549988</td>\n",
       "      <td>699.549988</td>\n",
       "      <td>74222434.0</td>\n",
       "    </tr>\n",
       "    <tr>\n",
       "      <th>7073</th>\n",
       "      <td>09-02-2024</td>\n",
       "      <td>703.650024</td>\n",
       "      <td>728.349976</td>\n",
       "      <td>694.200012</td>\n",
       "      <td>725.250000</td>\n",
       "      <td>725.250000</td>\n",
       "      <td>43235061.0</td>\n",
       "    </tr>\n",
       "  </tbody>\n",
       "</table>\n",
       "</div>"
      ],
      "text/plain": [
       "            Date        Open        High         Low       Close   Adj Close  \\\n",
       "7069  05-02-2024  647.099976  654.799988  638.750000  642.950012  642.950012   \n",
       "7070  06-02-2024  644.450012  655.000000  637.700012  650.250000  650.250000   \n",
       "7071  07-02-2024  655.049988  677.950012  655.000000  675.250000  675.250000   \n",
       "7072  08-02-2024  680.400024  718.900024  678.500000  699.549988  699.549988   \n",
       "7073  09-02-2024  703.650024  728.349976  694.200012  725.250000  725.250000   \n",
       "\n",
       "          Volume  \n",
       "7069  28339525.0  \n",
       "7070  14079390.0  \n",
       "7071  41696232.0  \n",
       "7072  74222434.0  \n",
       "7073  43235061.0  "
      ]
     },
     "execution_count": 27,
     "metadata": {},
     "output_type": "execute_result"
    }
   ],
   "source": [
    "a.tail()"
   ]
  },
  {
   "cell_type": "code",
   "execution_count": 29,
   "id": "53f91d78-5e0a-4b0b-a5ba-b0004371a9c5",
   "metadata": {},
   "outputs": [
    {
     "data": {
      "text/plain": [
       "Date         0\n",
       "Open         9\n",
       "High         9\n",
       "Low          9\n",
       "Close        9\n",
       "Adj Close    9\n",
       "Volume       9\n",
       "dtype: int64"
      ]
     },
     "execution_count": 29,
     "metadata": {},
     "output_type": "execute_result"
    }
   ],
   "source": [
    "a.isnull().sum()"
   ]
  },
  {
   "cell_type": "code",
   "execution_count": 31,
   "id": "861e6cd2-e593-4f2c-a205-4b7bacf8ce1d",
   "metadata": {},
   "outputs": [
    {
     "name": "stdout",
     "output_type": "stream",
     "text": [
      "              Open         High          Low        Close    Adj Close  \\\n",
      "count  7065.000000  7065.000000  7065.000000  7065.000000  7065.000000   \n",
      "mean    180.682841   183.085167   177.998209   180.448294   166.021712   \n",
      "std     154.773229   156.345078   152.980516   154.630549   152.903249   \n",
      "min      13.478195    13.935802    13.214009    13.346102     9.531410   \n",
      "25%      28.423565    28.824560    28.022570    28.456589    19.854374   \n",
      "50%     173.100006   176.500000   170.250000   172.925003   152.411270   \n",
      "75%     265.500000   268.899994   261.299988   265.174988   245.764954   \n",
      "max     703.650024   728.349976   694.200012   725.250000   725.250000   \n",
      "\n",
      "             Volume  \n",
      "count  7.065000e+03  \n",
      "mean   3.130217e+07  \n",
      "std    3.462744e+07  \n",
      "min    0.000000e+00  \n",
      "25%    1.299123e+07  \n",
      "50%    2.064292e+07  \n",
      "75%    3.651478e+07  \n",
      "max    4.469483e+08  \n"
     ]
    }
   ],
   "source": [
    "\n",
    "print(a.describe())\n"
   ]
  },
  {
   "cell_type": "code",
   "execution_count": 33,
   "id": "659a9c2d-cdd7-4dc8-92d3-021aa1e62b7d",
   "metadata": {},
   "outputs": [
    {
     "data": {
      "image/png": "[encoded data removed]",
      "text/plain": [
       "<Figure size 1000x600 with 1 Axes>"
      ]
     },
     "metadata": {},
     "output_type": "display_data"
    }
   ],
   "source": [
    "\n",
    "# Plot the closing prices over time\n",
    "plt.figure(figsize=(10, 6))\n",
    "plt.plot(a['Date'], a['Close'], label='Close Price')\n",
    "plt.title('Stock Closing Prices Over Time')\n",
    "plt.xlabel('Date')\n",
    "plt.ylabel('Close Price')\n",
    "plt.legend()\n",
    "plt.show()\n"
   ]
  },
  {
   "cell_type": "code",
   "execution_count": 38,
   "id": "cb3d98a5-cf31-442f-866c-29f3ec0401a5",
   "metadata": {},
   "outputs": [],
   "source": [
    "a['Open'].fillna(a['Open'].mean(), inplace=True)\n"
   ]
  },
  {
   "cell_type": "code",
   "execution_count": 40,
   "id": "fb5ed257-b0c9-4a49-a4d6-0ee42ae092dc",
   "metadata": {},
   "outputs": [],
   "source": [
    "a['High'].fillna(a['High'].mean(), inplace=True)\n",
    "a['Low'].fillna(a['Low'].mean(), inplace=True)\n",
    "a['Close'].fillna(a['Close'].mean(), inplace=True)\n",
    "a['Open'].fillna(a['Open'].mean(), inplace=True)\n",
    "a['Adj Close'].fillna(a['Adj Close'].mean(), inplace=True)\n",
    "a['Volume'].fillna(a['Volume'].mean(), inplace=True)\n",
    "\n"
   ]
  },
  {
   "cell_type": "code",
   "execution_count": 42,
   "id": "704c8172-0e0c-4964-acd1-66e19adae964",
   "metadata": {},
   "outputs": [
    {
     "data": {
      "text/plain": [
       "Date         0\n",
       "Open         0\n",
       "High         0\n",
       "Low          0\n",
       "Close        0\n",
       "Adj Close    0\n",
       "Volume       0\n",
       "dtype: int64"
      ]
     },
     "execution_count": 42,
     "metadata": {},
     "output_type": "execute_result"
    }
   ],
   "source": [
    "a.isnull().sum()"
   ]
  },
  {
   "cell_type": "code",
   "execution_count": 56,
   "id": "86c7235d-8c95-4204-90e8-0b2627fc197b",
   "metadata": {},
   "outputs": [],
   "source": [
    "# Convert the 'Date' column to datetime format with the correct format specified\n",
    "a['Date'] = pd.to_datetime(a['Date'], format='%d-%m-%Y')\n",
    "\n",
    "# Set the 'Date' column as the index\n",
    "a.set_index('Date', inplace=True)\n"
   ]
  },
  {
   "cell_type": "code",
   "execution_count": 58,
   "id": "14b273c0-43e4-4a43-a4cd-a275af5410b8",
   "metadata": {},
   "outputs": [],
   "source": [
    "X = a.drop(columns=['Close'])\n",
    "y = a['Close']"
   ]
  },
  {
   "cell_type": "code",
   "execution_count": 60,
   "id": "3f31eb0a-65a3-4ada-87aa-c58e1cad2a28",
   "metadata": {},
   "outputs": [],
   "source": [
    "X_train, X_test, y_train, y_test = train_test_split(X, y, test_size=0.2, random_state=42)\n",
    "\n",
    "scaler = StandardScaler()\n",
    "X_train_scaled = scaler.fit_transform(X_train)\n",
    "X_test_scaled = scaler.transform(X_test)"
   ]
  },
  {
   "cell_type": "code",
   "execution_count": 62,
   "id": "2347b3df-036c-4b30-8f46-9cc25e7de3d3",
   "metadata": {},
   "outputs": [],
   "source": [
    "# Create the Linear Regression model\n",
    "model = LinearRegression()\n",
    "\n",
    "# Train the model with training data\n",
    "model.fit(X_train_scaled, y_train)\n",
    "\n",
    "# Predicting the stock prices using the test set\n",
    "y_pred = model.predict(X_test_scaled)\n"
   ]
  },
  {
   "cell_type": "code",
   "execution_count": 64,
   "id": "d53baf35-afd1-4f5f-89e0-1dd02f9580f7",
   "metadata": {},
   "outputs": [
    {
     "name": "stdout",
     "output_type": "stream",
     "text": [
      "Mean Squared Error: 2.69292304762062\n",
      "R-squared: 0.9998879286538088\n"
     ]
    },
    {
     "data": {
      "image/png": "[encoded data removed]",
      "text/plain": [
       "<Figure size 1000x600 with 1 Axes>"
      ]
     },
     "metadata": {},
     "output_type": "display_data"
    }
   ],
   "source": [
    "# Calculate Mean Squared Error and R-squared\n",
    "mse = mean_squared_error(y_test, y_pred)\n",
    "r2 = r2_score(y_test, y_pred)\n",
    "\n",
    "print(f'Mean Squared Error: {mse}')\n",
    "print(f'R-squared: {r2}')\n",
    "\n",
    "# Plotting the actual vs predicted values\n",
    "plt.figure(figsize=(10, 6))\n",
    "plt.scatter(y_test, y_pred, color='blue')\n",
    "plt.plot(y_test, y_test, color='red')  # Perfect prediction line\n",
    "plt.xlabel('Actual Prices')\n",
    "plt.ylabel('Predicted Prices')\n",
    "plt.title('Actual vs Predicted Stock Prices')\n",
    "plt.show()\n"
   ]
  },
  {
   "cell_type": "code",
   "execution_count": 66,
   "id": "c2af7dfe-8b5e-432b-b301-efc9d7f0a716",
   "metadata": {},
   "outputs": [
    {
     "name": "stdout",
     "output_type": "stream",
     "text": [
      "Linear Regression - Mean Squared Error: 2.6929, R2 Score: 0.9999\n",
      "Random Forest Regressor - Mean Squared Error: 2.6202, R2 Score: 0.9999\n",
      "Gradient Boosting Regressor - Mean Squared Error: 5.7943, R2 Score: 0.9998\n",
      "Support Vector Regressor - Mean Squared Error: 3.5951, R2 Score: 0.9999\n",
      "Artificial Neural Network (ANN) - Mean Squared Error: 2.6202, R2 Score: 0.9999\n"
     ]
    }
   ],
   "source": [
    "from sklearn.ensemble import RandomForestRegressor, GradientBoostingRegressor\n",
    "from sklearn.svm import SVR\n",
    "from sklearn.neural_network import MLPRegressor\n",
    "from sklearn.metrics import mean_squared_error, r2_score\n",
    "\n",
    "# Dictionary to store results of each model\n",
    "model_results = {}\n",
    "\n",
    "# Function to train and evaluate a model\n",
    "def evaluate_model(model, X_train, X_test, y_train, y_test, model_name):\n",
    "    model.fit(X_train, y_train)\n",
    "    y_pred = model.predict(X_test)\n",
    "    mse = mean_squared_error(y_test, y_pred)\n",
    "    r2 = r2_score(y_test, y_pred)\n",
    "    model_results[model_name] = {'MSE': mse, 'R2 Score': r2}\n",
    "    print(f'{model_name} - Mean Squared Error: {mse:.4f}, R2 Score: {r2:.4f}')\n",
    "\n",
    "# Linear Regression\n",
    "linear_model = LinearRegression()\n",
    "evaluate_model(linear_model, X_train_scaled, X_test_scaled, y_train, y_test, 'Linear Regression')\n",
    "\n",
    "# Random Forest Regressor\n",
    "rf_model = RandomForestRegressor(n_estimators=100, random_state=42)\n",
    "evaluate_model(rf_model, X_train_scaled, X_test_scaled, y_train, y_test, 'Random Forest Regressor')\n",
    "\n",
    "# Gradient Boosting Regressor\n",
    "gb_model = GradientBoostingRegressor(n_estimators=100, learning_rate=0.1, random_state=42)\n",
    "evaluate_model(gb_model, X_train_scaled, X_test_scaled, y_train, y_test, 'Gradient Boosting Regressor')\n",
    "\n",
    "# Support Vector Regressor (SVR)\n",
    "svr_model = SVR(kernel='rbf', C=100, epsilon=0.1)\n",
    "evaluate_model(svr_model, X_train_scaled, X_test_scaled, y_train, y_test, 'Support Vector Regressor')\n",
    "\n",
    "# Artificial Neural Network (MLP Regressor)\n",
    "ann_model = MLPRegressor(hidden_layer_sizes=(100, 100), max_iter=1000, random_state=42)\n",
    "evaluate_model(ann_model, X_train_scaled, X_test_scaled, y_train, y_test, 'Artificial Neural Network (ANN)')\n"
   ]
  },
  {
   "cell_type": "code",
   "execution_count": 67,
   "id": "115fc2da-f69e-4ade-909c-bb9956c19dd9",
   "metadata": {},
   "outputs": [
    {
     "name": "stdout",
     "output_type": "stream",
     "text": [
      "                                      MSE  R2 Score\n",
      "Random Forest Regressor          2.620158  0.999891\n",
      "Artificial Neural Network (ANN)  2.620221  0.999891\n",
      "Linear Regression                2.692923  0.999888\n",
      "Support Vector Regressor         3.595091  0.999850\n",
      "Gradient Boosting Regressor      5.794284  0.999759\n"
     ]
    }
   ],
   "source": [
    "# Display the comparison results\n",
    "comparison_df = pd.DataFrame(model_results).T\n",
    "comparison_df.sort_values('R2 Score', ascending=False, inplace=True)\n",
    "print(comparison_df)\n"
   ]
  },
  {
   "cell_type": "code",
   "execution_count": null,
   "id": "68b720db-fb77-4d18-8e23-e2b5872fd64f",
   "metadata": {},
   "outputs": [],
   "source": []
  }
 ],
 "metadata": {
  "kernelspec": {
   "display_name": "Python 3 (ipykernel)",
   "language": "python",
   "name": "python3"
  },
  "language_info": {
   "codemirror_mode": {
    "name": "ipython",
    "version": 3
   },
   "file_extension": ".py",
   "mimetype": "text/x-python",
   "name": "python",
   "nbconvert_exporter": "python",
   "pygments_lexer": "ipython3",
   "version": "3.12.4"
  }
 },
 "nbformat": 4,
 "nbformat_minor": 5
}
